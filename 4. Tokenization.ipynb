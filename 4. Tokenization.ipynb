{
  "cells": [
    {
      "cell_type": "code",
      "execution_count": 30,
      "metadata": {
        "trusted": true
      },
      "outputs": [],
      "source": [
        "import re\n",
        "import nltk\n",
        "from nltk import word_tokenize\n",
        "import spacy\n",
        "import en_core_web_sm\n",
        "import polyglot\n",
        "from polyglot.text import Text, Word\n",
        "import faulthandler\n",
        "import time"
      ]
    },
    {
      "cell_type": "markdown",
      "metadata": {},
      "source": []
    },
    {
      "cell_type": "code",
      "execution_count": 31,
      "metadata": {
        "trusted": true
      },
      "outputs": [],
      "source": [
        "def remove_special_characters(text):\n",
        "    \"\"\"Removes special characters from a text string.\"\"\"\n",
        "    pattern = r\"[^\\w\\s]\"  # Keep alphanumeric characters and whitespace\n",
        "    return re.sub(pattern, \"\", text)\n",
        "\n",
        "\n",
        "def lowercase(text):\n",
        "    \"\"\"Converts a text string to lowercase.\"\"\"\n",
        "    return text.lower()"
      ]
    },
    {
      "cell_type": "code",
      "execution_count": 32,
      "metadata": {
        "trusted": true
      },
      "outputs": [
        {
          "name": "stdout",
          "output_type": "stream",
          "text": [
            "Clean data\n",
            "                                             content  score  upvotes\n",
            "0                                          Çox qəşəy      5        0\n",
            "1  Men niye nomre ile qeydiyatdan kece bilmirem.....      1        0\n",
            "2  Salam. Mən yukluyə bilmirəm. Necə kömək edə bi...      5        0\n",
            "3                                          cox gözəl      5        1\n",
            "4  Xaiş edirem bu problemi hell edinde həftədə 2 ...      5        0\n",
            "<class 'pandas.core.frame.DataFrame'>\n",
            "RangeIndex: 127537 entries, 0 to 127536\n",
            "Data columns (total 3 columns):\n",
            " #   Column   Non-Null Count   Dtype \n",
            "---  ------   --------------   ----- \n",
            " 0   content  127534 non-null  object\n",
            " 1   score    127537 non-null  int64 \n",
            " 2   upvotes  127537 non-null  int64 \n",
            "dtypes: int64(2), object(1)\n",
            "memory usage: 2.9+ MB\n",
            "None\n",
            "content    3\n",
            "score      0\n",
            "upvotes    0\n",
            "dtype: int64\n"
          ]
        }
      ],
      "source": [
        "# Clean data\n",
        "from utility.clean_data_func import clean_and_filter_data\n",
        "\n",
        "\n",
        "print(\"Clean data\")\n",
        "df = clean_and_filter_data(\"./utilty/azarbeijan-reviews.csv\")\n",
        "df[\"content\"] = df[\"content\"].apply(remove_special_characters)\n",
        "df[\"content\"] = df[\"content\"].apply(lowercase)"
      ]
    },
    {
      "cell_type": "code",
      "execution_count": 33,
      "metadata": {
        "trusted": true
      },
      "outputs": [
        {
          "name": "stdout",
          "output_type": "stream",
          "text": [
            "Clean data\n",
            "                                             content  score  upvotes\n",
            "0                                          Çox qəşəy      5        0\n",
            "1  Men niye nomre ile qeydiyatdan kece bilmirem.....      1        0\n",
            "2  Salam. Mən yukluyə bilmirəm. Necə kömək edə bi...      5        0\n",
            "3                                          cox gözəl      5        1\n",
            "4  Xaiş edirem bu problemi hell edinde həftədə 2 ...      5        0\n",
            "<class 'pandas.core.frame.DataFrame'>\n",
            "RangeIndex: 127537 entries, 0 to 127536\n",
            "Data columns (total 3 columns):\n",
            " #   Column   Non-Null Count   Dtype \n",
            "---  ------   --------------   ----- \n",
            " 0   content  127534 non-null  object\n",
            " 1   score    127537 non-null  int64 \n",
            " 2   upvotes  127537 non-null  int64 \n",
            "dtypes: int64(2), object(1)\n",
            "memory usage: 2.9+ MB\n",
            "None\n",
            "content    3\n",
            "score      0\n",
            "upvotes    0\n",
            "dtype: int64\n"
          ]
        }
      ],
      "source": [
        "# Clean data\n",
        "print(\"Clean data\")\n",
        "df = clean_and_filter_data(\"./utilty/azarbeijan-reviews.csv\")\n",
        "df[\"content\"] = df[\"content\"].apply(remove_special_characters)\n",
        "df[\"content\"] = df[\"content\"].apply(lowercase)"
      ]
    },
    {
      "cell_type": "code",
      "execution_count": 34,
      "metadata": {
        "trusted": true
      },
      "outputs": [
        {
          "name": "stdout",
          "output_type": "stream",
          "text": [
            "Separate target and data\n"
          ]
        }
      ],
      "source": [
        "# Separate target and data\n",
        "print(\"Separate target and data\")\n",
        "content = df[\"content\"].values.tolist()\n",
        "score = df[\"score\"].values.tolist()\n",
        "upvotes = df[\"upvotes\"].values.tolist()\n"
      ]
    },
    {
      "cell_type": "code",
      "execution_count": 35,
      "metadata": {
        "trusted": true
      },
      "outputs": [
        {
          "name": "stdout",
          "output_type": "stream",
          "text": [
            "Split the dataset into training and testing sets\n"
          ]
        }
      ],
      "source": [
        "# Split the dataset into training and testing sets\n",
        "print(\"Split the dataset into training and testing sets\")\n",
        "split_point = int(len(content) * 0.80)\n",
        "train_content, test_content = content[:split_point], content[split_point:]\n",
        "train_score, test_score = score[:split_point], score[split_point:]"
      ]
    },
    {
      "cell_type": "code",
      "execution_count": 36,
      "metadata": {
        "trusted": true
      },
      "outputs": [
        {
          "name": "stdout",
          "output_type": "stream",
          "text": [
            "Tokenization with spaCy is done in 20.60 seconds.\n"
          ]
        }
      ],
      "source": [
        "# # Load the spaCy model\n",
        "nlp = spacy.load(\"en_core_web_sm\")\n",
        "\n",
        "# Tokenize with spaCy\n",
        "start_time = time.time()\n",
        "train_spaCy_tokens = [nlp(text) for text in train_content]\n",
        "test_spaCy_tokens = [nlp(text) for text in test_content]\n",
        "spaCy_time = time.time() - start_time\n",
        "print(\"Tokenization with spaCy is done in {:.2f} seconds.\".format(spaCy_time))"
      ]
    },
    {
      "cell_type": "code",
      "execution_count": 37,
      "metadata": {
        "trusted": true
      },
      "outputs": [
        {
          "name": "stdout",
          "output_type": "stream",
          "text": [
            "Tokenization with NLTK is done in 0.45 seconds.\n"
          ]
        }
      ],
      "source": [
        "# Tokenize with NLTK\n",
        "start_time = time.time()\n",
        "train_nltk_tokens = [nltk.word_tokenize(text) for text in train_content]\n",
        "test_nltk_tokens = [nltk.word_tokenize(text) for text in test_content]\n",
        "nltk_time = time.time() - start_time\n",
        "print(\"Tokenization with NLTK is done in {:.2f} seconds.\".format(nltk_time))"
      ]
    },
    {
      "cell_type": "code",
      "execution_count": 38,
      "metadata": {
        "trusted": true
      },
      "outputs": [
        {
          "name": "stdout",
          "output_type": "stream",
          "text": [
            "Tokenization with Polyglot is done in 0.01 seconds.\n"
          ]
        }
      ],
      "source": [
        "# Tokenize with Polyglot\n",
        "start_time = time.time()\n",
        "train_polyglot_tokens = [Text(text) for text in train_content]\n",
        "test_polyglot_tokens = [Text(text) for text in test_content]\n",
        "polyglot_time = time.time() - start_time\n",
        "print(\"Tokenization with Polyglot is done in {:.2f} seconds.\".format(polyglot_time))"
      ]
    },
    {
      "cell_type": "code",
      "execution_count": 39,
      "metadata": {
        "trusted": true
      },
      "outputs": [],
      "source": [
        "#Results\n",
        "#Tokenization with spaCy is done in 18.83 seconds.\n",
        "#Tokenization with NLTK is done in 0.47 seconds.\n",
        "#Tokenization with Polyglot is done in 0.00 seconds.\n",
        "#We see that Polyglot tokenizes extremly fast but spaCy is kinda slow"
      ]
    }
  ],
  "metadata": {
    "kernelspec": {
      "display_name": "Python 3",
      "language": "python",
      "name": "python3"
    },
    "language_info": {
      "codemirror_mode": {
        "name": "ipython",
        "version": 3
      },
      "file_extension": ".py",
      "mimetype": "text/x-python",
      "name": "python",
      "nbconvert_exporter": "python",
      "pygments_lexer": "ipython3",
      "version": "3.12.0"
    }
  },
  "nbformat": 4,
  "nbformat_minor": 4
}
